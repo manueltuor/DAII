{
 "cells": [
  {
   "cell_type": "markdown",
   "id": "08914ba5",
   "metadata": {},
   "source": [
    "# Momentum resolution"
   ]
  },
  {
   "cell_type": "markdown",
   "id": "00e28de3",
   "metadata": {},
   "source": [
    "In the following, all measurements are in metres!"
   ]
  },
  {
   "cell_type": "code",
   "execution_count": null,
   "id": "2f07619a",
   "metadata": {},
   "outputs": [],
   "source": [
    "import numpy as np\n",
    "import matplotlib.pyplot as plt\n",
    "import "
   ]
  },
  {
   "cell_type": "markdown",
   "id": "1e552983",
   "metadata": {},
   "source": [
    "## Tracking resolution"
   ]
  },
  {
   "cell_type": "markdown",
   "id": "5ed8688c",
   "metadata": {},
   "source": [
    "### Single trajectory"
   ]
  },
  {
   "cell_type": "code",
   "execution_count": null,
   "id": "6e35db28",
   "metadata": {},
   "outputs": [],
   "source": [
    "n = 5\n",
    "delta_z = 0.02\n",
    "\n",
    "z0 = 0\n",
    "\n",
    "set.seed\n",
    "y0 = x0_true\n",
    "\n"
   ]
  }
 ],
 "metadata": {
  "kernelspec": {
   "display_name": "Numer",
   "language": "python",
   "name": "python3"
  },
  "language_info": {
   "name": "python",
   "version": "3.13.2"
  }
 },
 "nbformat": 4,
 "nbformat_minor": 5
}
