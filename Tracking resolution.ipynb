{
 "cells": [
  {
   "cell_type": "markdown",
   "id": "08914ba5",
   "metadata": {},
   "source": [
    "# Momentum resolution"
   ]
  },
  {
   "cell_type": "markdown",
   "id": "00e28de3",
   "metadata": {},
   "source": [
    "In the following, all measurements are in metres, resp. radians."
   ]
  },
  {
   "cell_type": "code",
   "execution_count": 3,
   "id": "2f07619a",
   "metadata": {},
   "outputs": [],
   "source": [
    "import numpy as np\n",
    "import matplotlib.pyplot as plt\n",
    "import scipy"
   ]
  },
  {
   "cell_type": "markdown",
   "id": "1e552983",
   "metadata": {},
   "source": [
    "## Tracking resolution"
   ]
  },
  {
   "cell_type": "markdown",
   "id": "5ed8688c",
   "metadata": {},
   "source": [
    "### Single trajectory"
   ]
  },
  {
   "cell_type": "code",
   "execution_count": null,
   "id": "6e35db28",
   "metadata": {},
   "outputs": [],
   "source": [
    "n = 5\n",
    "delta_z = 0.02\n",
    "\n",
    "z0 = 0\n",
    "\n",
    "np.random.seed(14)\n",
    "x0_true = np.random.normal(0, 0.001)\n",
    "s0_true = np.random.normal(0, 0.1)\n",
    "\n",
    "x0 = x0_true\n",
    "\n",
    "def find_x_position(z_diff, s0):\n",
    "    return np.tan(s0) * z_diff\n",
    "\n",
    "def find_cell(x_pos):\n",
    "    return np.floor(x_pos / 0.0005)\n",
    "\n",
    "cells_hit = np.full(n, np.nan)\n",
    "\n",
    "for i in range(1, n+1):\n",
    "    cells_hit[i] = find_cell(find_x_position(delta_z * i))\n",
    "\n",
    "\n",
    "\n"
   ]
  }
 ],
 "metadata": {
  "kernelspec": {
   "display_name": "Numer",
   "language": "python",
   "name": "python3"
  },
  "language_info": {
   "codemirror_mode": {
    "name": "ipython",
    "version": 3
   },
   "file_extension": ".py",
   "mimetype": "text/x-python",
   "name": "python",
   "nbconvert_exporter": "python",
   "pygments_lexer": "ipython3",
   "version": "3.13.2"
  }
 },
 "nbformat": 4,
 "nbformat_minor": 5
}
